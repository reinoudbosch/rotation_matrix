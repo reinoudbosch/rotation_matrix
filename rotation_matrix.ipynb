{
 "cells": [
  {
   "cell_type": "markdown",
   "id": "629de0e0",
   "metadata": {},
   "source": [
    "# Optional reading: The rotation matrix"
   ]
  },
  {
   "cell_type": "markdown",
   "id": "8f6612d8",
   "metadata": {},
   "source": [
    "## Counterclockwise rotation"
   ]
  },
  {
   "cell_type": "markdown",
   "id": "c73d4614",
   "metadata": {},
   "source": [
    "If you want to rotate a vector $r$ with coordinates ($x$, $y$) and angle $\\alpha$ counterclockwise over an angle $\\beta$ to get vector $r’$ with coordinates ($x’$, $y’$) then the following holds:\n",
    "\n",
    "$x = r*cos(\\alpha)$<br>\n",
    "$y = r*sin(\\alpha)$<br>\n",
    "\n",
    "$x’ = r’*cos(\\alpha + \\beta)$<br>\n",
    "$y’ = r’*sin(\\alpha + \\beta)$<br>\n"
   ]
  },
  {
   "cell_type": "markdown",
   "id": "a8db8cad",
   "metadata": {},
   "source": [
    "Trigonometric addition gives us:\n",
    "\n",
    "$cos(\\alpha + \\beta) = cos(\\alpha)cos(\\beta) - sin(\\alpha)sin(\\beta)$<br>\n",
    "$sin(\\alpha + \\beta) = cos(\\alpha)sin(\\beta) + sin(\\alpha)cos(\\beta)$\n",
    "\n",
    "For proof see <a href=\"https://en.wikipedia.org/wiki/Proofs_of_trigonometric_identities#Angle_sum_identities\">this Wikipedia page section</a>."
   ]
  },
  {
   "cell_type": "markdown",
   "id": "0a7d8706",
   "metadata": {},
   "source": [
    "As the length of the vector stays the same,\n",
    "\n",
    "$x’ = r*cos(\\alpha)cos(\\beta) - r*sin(\\alpha)sin(\\beta)$<br>\n",
    "$y’ = r*cos(\\alpha)sin(\\beta) + r*sin(\\alpha)cos(\\beta)$\n",
    "\n",
    "This equates to\n",
    "\n",
    "$x’ = x*cos(\\beta) - y*sin(\\beta)$<br>\n",
    "$y’ = x*sin(\\beta) + y*cos(\\beta)$\n",
    "\n",
    "Written as matrix multiplication with <u>row vectors</u>, this becomes\n",
    "\n",
    "$\n",
    "[x', y'] = [x, y] \\cdot\n",
    "\\begin{bmatrix}cos(\\beta) & sin(\\beta)\\\\ -sin(\\beta) & cos(\\beta)\\end{bmatrix}\n",
    "$\n",
    "\n",
    "with the rotation matrix equal to<br><br>\n",
    "$\n",
    "R = \\begin{bmatrix}cos(\\beta) & sin(\\beta)\\\\ -sin(\\beta) & cos(\\beta)\\end{bmatrix}\n",
    "$"
   ]
  },
  {
   "cell_type": "markdown",
   "id": "879f4020",
   "metadata": {},
   "source": [
    "Written as matrix multiplication with <u>column vectors</u>, this becomes\n",
    "\n",
    "$\n",
    "\\begin{bmatrix}x'\\\\y'\\end{bmatrix} = \n",
    "\\begin{bmatrix}cos(\\beta) & -sin(\\beta)\\\\ sin(\\beta) & cos(\\beta)\\end{bmatrix}\n",
    "\\cdot \\begin{bmatrix}x\\\\y\\end{bmatrix}\n",
    "$\n",
    "\n",
    "with the rotation matrix equal to\n",
    "\n",
    "$\n",
    "R = \\begin{bmatrix}cos(\\beta) & -sin(\\beta)\\\\ sin(\\beta) & cos(\\beta)\\end{bmatrix}\n",
    "$\n",
    "\n",
    "Note that the position of $-sin(\\beta)$ in the rotation matrix has changed.\n"
   ]
  },
  {
   "cell_type": "markdown",
   "id": "cec54ff9",
   "metadata": {},
   "source": [
    "## Clockwise rotation"
   ]
  },
  {
   "cell_type": "markdown",
   "id": "c32b59b2",
   "metadata": {},
   "source": [
    "If rotation is clockwise, then the rotation matrix for multiplication with <u>row vectors</u> becomes\n",
    "\n",
    "$\n",
    "R = \\begin{bmatrix}cos(-\\beta) & sin(-\\beta)\\\\ -sin(-\\beta) & cos(-\\beta)\\end{bmatrix}\n",
    "$\n",
    "\n",
    "As $sin(-\\beta) = -sin(\\beta)$ and $cos(-\\beta) = cos(\\beta)$\n",
    "\n",
    "this equates to\n",
    "\n",
    "$\n",
    "R = \\begin{bmatrix}cos(\\beta) & -sin(\\beta)\\\\ sin(\\beta) & cos(\\beta)\\end{bmatrix}\n",
    "$\n",
    "\n",
    "So clockwise rotation of a vector $[x, y]$ can be expressed as\n",
    "\n",
    "$\n",
    "[x', y'] = [x, y] \\cdot\n",
    "\\begin{bmatrix}cos(\\beta) & -sin(\\beta)\\\\ sin(\\beta) & cos(\\beta)\\end{bmatrix}\n",
    "$\n",
    "<br><br>\n",
    "\n",
    "The rotation matrix for multiplication with <u>column vectors</u> becomes\n",
    "\n",
    "$\n",
    "R = \\begin{bmatrix}cos(-\\beta) & -sin(-\\beta)\\\\ sin(-\\beta) & cos(-\\beta)\\end{bmatrix}\n",
    "$\n",
    "\n",
    "which equates to\n",
    "\n",
    "$\n",
    "R = \\begin{bmatrix}cos(\\beta) & sin(\\beta)\\\\ -sin(\\beta) & cos(\\beta)\\end{bmatrix}\n",
    "$\n",
    "\n",
    "So clockwise rotation of a vector $\\begin{bmatrix}x\\\\ y\\end{bmatrix}$ can be expressed as\n",
    "\n",
    "$\n",
    "\\begin{bmatrix}x'\\\\y'\\end{bmatrix} = \n",
    "\\begin{bmatrix}cos(\\beta) & sin(\\beta)\\\\ -sin(\\beta) & cos(\\beta)\\end{bmatrix}\n",
    "\\cdot \\begin{bmatrix}x\\\\y\\end{bmatrix}\n",
    "$\n"
   ]
  },
  {
   "cell_type": "markdown",
   "id": "c0550efe",
   "metadata": {},
   "source": [
    "#### Author: Reinoud Bosch\n"
   ]
  },
  {
   "cell_type": "code",
   "execution_count": null,
   "id": "69462c05",
   "metadata": {},
   "outputs": [],
   "source": []
  }
 ],
 "metadata": {
  "kernelspec": {
   "display_name": "Python 3 (ipykernel)",
   "language": "python",
   "name": "python3"
  },
  "language_info": {
   "codemirror_mode": {
    "name": "ipython",
    "version": 3
   },
   "file_extension": ".py",
   "mimetype": "text/x-python",
   "name": "python",
   "nbconvert_exporter": "python",
   "pygments_lexer": "ipython3",
   "version": "3.8.3"
  }
 },
 "nbformat": 4,
 "nbformat_minor": 5
}
